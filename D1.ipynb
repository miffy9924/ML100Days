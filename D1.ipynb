{
  "metadata": {
    "language_info": {
      "codemirror_mode": {
        "name": "python",
        "version": 3
      },
      "file_extension": ".py",
      "mimetype": "text/x-python",
      "name": "python",
      "nbconvert_exporter": "python",
      "pygments_lexer": "ipython3",
      "version": "3.8"
    },
    "kernelspec": {
      "name": "python",
      "display_name": "Pyolite",
      "language": "python"
    }
  },
  "nbformat_minor": 4,
  "nbformat": 4,
  "cells": [
    {
      "cell_type": "code",
      "source": "import numpy as np\n\na = np.random.randint(10, size=6)\n\nprint('list(a):', list(a))\nprint('a.tolist():', a.tolist())\n\nb = np.random.randint(10, size=6).reshape(3,2)\n\nprint('list(b):', list(b))\nprint('b.tolist():', b.tolist())",
      "metadata": {
        "trusted": true
      },
      "execution_count": 1,
      "outputs": [
        {
          "name": "stdout",
          "text": "list(a): [1, 4, 3, 7, 4, 7]\na.tolist(): [1, 4, 3, 7, 4, 7]\nlist(b): [array([2, 0]), array([8, 8]), array([6, 0])]\nb.tolist(): [[2, 0], [8, 8], [6, 0]]\n",
          "output_type": "stream"
        }
      ]
    },
    {
      "cell_type": "code",
      "source": "'''\nlist(a) 只會把第一層元素轉換成 List, 多層的話只有第一層會轉; tolist() 才會達成多層型態轉換。\n'''",
      "metadata": {
        "trusted": true
      },
      "execution_count": 3,
      "outputs": [
        {
          "execution_count": 3,
          "output_type": "execute_result",
          "data": {
            "text/plain": "'\\nlist(a) 只會把第一層元素轉換成 List, 多層的話只有第一層會轉; tolist() 才會達成多層型態轉換。\\n'"
          },
          "metadata": {}
        }
      ]
    },
    {
      "cell_type": "code",
      "source": "import numpy as np\na = np.random.randint(10, size=6)\n\nprint(a)\n\nprint(a.ndim)\nprint(a.shape)\nprint(a.size)\nprint(a.dtype)\nprint(a.itemsize)\nprint(len(a))\nprint(type(a))",
      "metadata": {
        "trusted": true
      },
      "execution_count": 4,
      "outputs": [
        {
          "name": "stdout",
          "text": "[4 8 6 5 1 4]\n1\n(6,)\n6\nint32\n4\n6\n<class 'numpy.ndarray'>\n",
          "output_type": "stream"
        }
      ]
    },
    {
      "cell_type": "code",
      "source": "import numpy as np\nb = np.random.randint(10, size=(3, 4))\n\nprint(b)\n\nprint(b.ndim)\nprint(b.shape)\nprint(b.size)\nprint(b.dtype)\nprint(b.itemsize)\nprint(len(b))\nprint(type(b))",
      "metadata": {
        "trusted": true
      },
      "execution_count": 5,
      "outputs": [
        {
          "name": "stdout",
          "text": "[[4 2 9 4]\n [3 7 7 2]\n [3 4 0 8]]\n2\n(3, 4)\n12\nint32\n4\n3\n<class 'numpy.ndarray'>\n",
          "output_type": "stream"
        }
      ]
    },
    {
      "cell_type": "code",
      "source": "import numpy as np\nc = np.random.randint(10, size=(2, 3, 2))\n\nprint(c)\n\nprint(c.ndim)\nprint(c.shape)\nprint(c.size)\nprint(c.dtype)\nprint(c.itemsize)\nprint(len(c))\nprint(type(c))",
      "metadata": {
        "trusted": true
      },
      "execution_count": 6,
      "outputs": [
        {
          "name": "stdout",
          "text": "[[[7 6]\n  [8 5]\n  [8 8]]\n\n [[7 6]\n  [1 5]\n  [7 9]]]\n3\n(2, 3, 2)\n12\nint32\n4\n2\n<class 'numpy.ndarray'>\n",
          "output_type": "stream"
        }
      ]
    },
    {
      "cell_type": "code",
      "source": "def tolist(interable):\n    if type(interable) != np.ndarray:\n        return interable\n    newlist = []\n    for obj in interable:\n        newlist.append(tolist(obj))\n    return list(newlist)\n   \nprint(tolist(a))\nprint(tolist(b))\nprint(tolist(c))",
      "metadata": {
        "trusted": true
      },
      "execution_count": 7,
      "outputs": [
        {
          "name": "stdout",
          "text": "[4, 8, 6, 5, 1, 4]\n[[4, 2, 9, 4], [3, 7, 7, 2], [3, 4, 0, 8]]\n[[[7, 6], [8, 5], [8, 8]], [[7, 6], [1, 5], [7, 9]]]\n",
          "output_type": "stream"
        }
      ]
    },
    {
      "cell_type": "code",
      "source": "",
      "metadata": {},
      "execution_count": null,
      "outputs": []
    }
  ]
}